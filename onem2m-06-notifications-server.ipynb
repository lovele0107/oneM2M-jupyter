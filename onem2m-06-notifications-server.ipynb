{
 "cells": [
  {
   "cell_type": "markdown",
   "metadata": {},
   "source": [
    "# oneM2M - Subscriptions and Notifications - Notification Server\n",
    "\n",
    "This notebook runs a small webserver to receive notifications from a CSE.\n",
    "\n",
    "Please note that it is necessary to run this server in a separate notebook. Please refer to the second notebook on this topic for the requests.\n",
    "\n",
    "**Note**: The server can only be run once! If you need to restart the server, you also need to **interrupt and restart** the Jupyter kernel.\n",
    "\n",
    "\n",
    "## Setup and Run a Notification Server\n",
    "\n",
    "In order to subscribe to notifications one must run a notification server that receives two kind of requests:\n",
    "\n",
    "- Whenever a new &lt;Subscription> is created a verification request is send to the notification server to check the validity of the subscription.\n",
    "- For every monitored change of a resource the server is contacted and the changes are pushed to the notification server.m\n",
    "\n",
    "For a simple implementation (always acknowledge the requests described above), the notification server must set the response header field *X-M2M-RSC* to *2000*.\n",
    "\n"
   ]
  },
  {
   "cell_type": "code",
   "execution_count": null,
   "metadata": {
    "scrolled": false
   },
   "outputs": [],
   "source": [
    "from init import *\n",
    "from http.server import HTTPServer, BaseHTTPRequestHandler\n",
    "\n",
    "class SimpleHTTPRequestHandler(BaseHTTPRequestHandler):\n",
    "        \n",
    "    def do_POST(self):\n",
    "        # Construct return header\n",
    "        self.send_response(200)\n",
    "        self.send_header('X-M2M-RSC', '2000')\n",
    "        self.end_headers()\n",
    "\n",
    "        # Get headers and content data\n",
    "        length = int(self.headers['Content-Length'])\n",
    "        contentType = self.headers['Content-Type']\n",
    "        post_data = self.rfile.read(length)\n",
    "        \n",
    "        # Print the content data\n",
    "        printmd('### Notification')\n",
    "        #print (self.headers)\n",
    "        printJSON(post_data.decode('utf-8'))\n",
    "\n",
    "\n",
    "httpd = HTTPServer(('', notificationPort), SimpleHTTPRequestHandler)\n",
    "printmd('**starting server & waiting for connections**')\n",
    "httpd.serve_forever()"
   ]
  },
  {
   "cell_type": "markdown",
   "metadata": {},
   "source": [
    "## The following attributes can be part of notification:\n",
    "\n",
    "- **vrq** : When this attribute is present and set to *true* then a request is a Verification Requst.\n",
    "- **sud** : A Subscription Deletion attribute indicates whether this request signals the deletion of a subscription.\n",
    "- **nev** : This attribute indicates and represents that a request is a Notification Event.\n",
    "- **rep** : The Representation attribute contains the resource(s) that was changed and caused the notification. Usually it contains the whole resource for further processing by the notification server.\n",
    "- **sur** : The Subscription Resource attribute contains the resource identifier of the assocsubiated &lt;Subscription>."
   ]
  }
 ],
 "metadata": {
  "kernelspec": {
   "display_name": "Python 3",
   "language": "python",
   "name": "python3"
  },
  "language_info": {
   "codemirror_mode": {
    "name": "ipython",
    "version": 3
   },
   "file_extension": ".py",
   "mimetype": "text/x-python",
   "name": "python",
   "nbconvert_exporter": "python",
   "pygments_lexer": "ipython3",
   "version": "3.8.0"
  }
 },
 "nbformat": 4,
 "nbformat_minor": 2
}
