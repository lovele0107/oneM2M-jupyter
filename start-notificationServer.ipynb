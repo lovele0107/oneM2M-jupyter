{
 "cells": [
  {
   "cell_type": "markdown",
   "metadata": {},
   "source": [
    "# oneM2M - Subscriptions and Notifications - Notification Server\n",
    "\n",
    "This notebook runs a small webserver to receive notifications from a CSE.\n",
    "\n",
    "\n",
    "## Setup and Run a Notification Server\n",
    "\n",
    "In order to subscribe to notifications one must run a notification server that receives two kind of requests:\n",
    "\n",
    "- Whenever a new &lt;Subscription> is created a verification request is send to the notification server to check the validity of the subscription.\n",
    "- For every monitored change of a resource the server is contacted and the changes are pushed to the notification server.m\n",
    "\n",
    "For a simple implementation (always acknowledge the requests described above), the notification server must set the response header field *X-M2M-RSC* to *2000*.\n",
    "\n",
    "### Stopping the Notification Server\n",
    "\n",
    "Only one instance of the Notification Server can run at a time. To stop it just *restart* the notebook's kernel.  \n",
    "**Please be patient. The NotificationServer might take a few seconds to shutdown**.\n"
   ]
  },
  {
   "cell_type": "code",
   "execution_count": null,
   "metadata": {
    "scrolled": false
   },
   "outputs": [],
   "source": [
    "# Increase the width of the notebook to accomodate the log output\n",
    "from IPython.core.display import display, HTML\n",
    "display(HTML(\"<style>.container { width:100% !important; }</style>\"))\n",
    "\n",
    "# change to the CSE's directory and start the CSE\n",
    "%cd tools/NotificationServer\n",
    "%run ./NotificationServer.py"
   ]
  },
  {
   "cell_type": "markdown",
   "metadata": {},
   "source": [
    "## The following attributes can be part of notification:\n",
    "\n",
    "- **vrq** : When this attribute is present and set to *true* then a request is a Verification Requst.\n",
    "- **sud** : A Subscription Deletion attribute indicates whether this request signals the deletion of a subscription.\n",
    "- **nev** : This attribute indicates and represents that a request is a Notification Event.\n",
    "- **rep** : The Representation attribute contains the resource(s) that was changed and caused the notification. Usually it contains the whole resource for further processing by the notification server.\n",
    "- **sur** : The Subscription Resource attribute contains the resource identifier of the assocsubiated &lt;Subscription>."
   ]
  }
 ],
 "metadata": {
  "kernelspec": {
   "display_name": "Python 3",
   "language": "python",
   "name": "python3"
  },
  "language_info": {
   "codemirror_mode": {
    "name": "ipython",
    "version": 3
   },
   "file_extension": ".py",
   "mimetype": "text/x-python",
   "name": "python",
   "nbconvert_exporter": "python",
   "pygments_lexer": "ipython3",
   "version": "3.8.2"
  }
 },
 "nbformat": 4,
 "nbformat_minor": 2
}
