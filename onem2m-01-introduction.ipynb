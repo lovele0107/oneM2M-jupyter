{
 "cells": [
  {
   "cell_type": "markdown",
   "metadata": {},
   "source": [
    "# oneM2M - First Contact\n",
    "This notebook shows the the first basic interactions with a CSE using a REST call to retrieve the root CSE resource.\n",
    "\n",
    "- Retrieve a &lt;CSEBase> resource\n",
    "\n",
    "## Intitialization\n",
    "The section does import necessary modules and configurations."
   ]
  },
  {
   "cell_type": "code",
   "execution_count": null,
   "metadata": {},
   "outputs": [],
   "source": [
    "%run init.py"
   ]
  },
  {
   "cell_type": "markdown",
   "metadata": {},
   "source": [
    "## Retrieve the &lt;CSEBase> Resource\n",
    "This first example retrieves the &lt;CSEBase> resource from the CSE. This resource represents the root of the CSE itself. All other resources are located beneath this root resource."
   ]
  },
  {
   "cell_type": "code",
   "execution_count": null,
   "metadata": {},
   "outputs": [],
   "source": [
    "RETRIEVE (                                          # RETRIEVE request\n",
    "    url,\n",
    "    \n",
    "    # Request Headers\n",
    "    {\n",
    "        'X-M2M-Origin' : originator,                # Set the originator\n",
    "        'X-M2M-RI'     : '1',                       # Unique request identifier\n",
    "        'Accept'       : 'application/json'         # Response shall be JSON    \n",
    "    }\n",
    ")"
   ]
  },
  {
   "cell_type": "markdown",
   "metadata": {},
   "source": [
    "The response contains a lot of informations about the CSE itself:\n",
    "\n",
    "- **rn** : A resourceName. If left out in creation requests, the CSE assigns a unique resource name on its own. for the CSEBase this is usually set by the administrator.\n",
    "- **ty** : Resource type.\n",
    "- **ri** : Resource identifier. This uniquely identifies a resource in a CSE.\n",
    "- **ct, lt** : Creation and latest motification dates of a resource.\n",
    "- **acpi** : A list of &lt;AccessControlPolicy> resources, which specify access control and rights to a resource.\n",
    "- **cst** : The type of CSE (IN, MN etc)\n",
    "- **csi** : The CSE Identifier. It always starts with a /.\n",
    "- **srt** : A list of Resource Types supported by this CSE.\n",
    "- **srv** : The oneM2M release versions supported by this CSE.\n",
    "- **poa** : The Point of Access of the CSE."
   ]
  }
 ],
 "metadata": {
  "kernelspec": {
   "display_name": "Python 3",
   "language": "python",
   "name": "python3"
  },
  "language_info": {
   "codemirror_mode": {
    "name": "ipython",
    "version": 3
   },
   "file_extension": ".py",
   "mimetype": "text/x-python",
   "name": "python",
   "nbconvert_exporter": "python",
   "pygments_lexer": "ipython3",
   "version": "3.8.2"
  }
 },
 "nbformat": 4,
 "nbformat_minor": 2
}
