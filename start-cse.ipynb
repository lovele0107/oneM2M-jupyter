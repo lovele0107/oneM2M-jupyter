{
 "cells": [
  {
   "cell_type": "markdown",
   "metadata": {},
   "source": [
    "# CSE - Starter\n",
    "Executing the following command will start a CSE inside the notebook.\n",
    "\n",
    "### Changing the Log Level\n",
    "To get more verbose output to see how commands are processed inside the CSE you can replace the last line in the following cell with\n",
    "\n",
    "    %run ./acme.py --log-level debug\n",
    "\n",
    "### Stopping the CSE\n",
    "\n",
    "Only one instance of the CSE can run at a time. To stop it just *restart* the notebook's kernel.  \n",
    "**Please be patient. The CSE might take a few seconds to shutdown**.\n",
    "\n",
    "### CSE WebUI\n",
    "\n",
    "The CSE has a WebUI that allows you to see the CSE's resource tree and resources' details.\n",
    "\n",
    "It is available at [http://localhost:8080/webui](http://localhost:8080/webui) ."
   ]
  },
  {
   "cell_type": "code",
   "execution_count": null,
   "metadata": {},
   "outputs": [],
   "source": [
    "# Increase the width of the notebook to accomodate the log output\n",
    "from IPython.core.display import display, HTML\n",
    "display(HTML(\"<style>.container { width:100% !important; }</style>\"))\n",
    "\n",
    "# change to the CSE's directory and start the CSE\n",
    "%cd tools/ACME\n",
    "%run ./acme.py"
   ]
  },
  {
   "cell_type": "markdown",
   "metadata": {},
   "source": [
    "&nbsp;"
   ]
  }
 ],
 "metadata": {
  "kernelspec": {
   "display_name": "Python 3",
   "language": "python",
   "name": "python3"
  },
  "language_info": {
   "codemirror_mode": {
    "name": "ipython",
    "version": 3
   },
   "file_extension": ".py",
   "mimetype": "text/x-python",
   "name": "python",
   "nbconvert_exporter": "python",
   "pygments_lexer": "ipython3",
   "version": "3.8.2"
  }
 },
 "nbformat": 4,
 "nbformat_minor": 2
}
